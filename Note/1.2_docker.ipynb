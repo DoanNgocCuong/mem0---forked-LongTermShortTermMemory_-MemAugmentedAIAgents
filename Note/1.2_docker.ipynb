{
 "cells": [
  {
   "cell_type": "markdown",
   "metadata": {},
   "source": [
    "```bash\n",
    "sudo docker ps | grep 25039\n",
    "```"
   ]
  }
 ],
 "metadata": {
  "language_info": {
   "name": "python"
  }
 },
 "nbformat": 4,
 "nbformat_minor": 2
}
