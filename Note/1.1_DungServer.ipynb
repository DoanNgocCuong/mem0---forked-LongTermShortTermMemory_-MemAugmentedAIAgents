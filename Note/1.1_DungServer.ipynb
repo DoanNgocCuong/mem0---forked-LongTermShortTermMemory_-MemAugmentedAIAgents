{
 "cells": [
  {
   "cell_type": "markdown",
   "metadata": {},
   "source": [
    "Follow the instructions in the [docs](https://docs.mem0.ai/open-source/features/rest-api) to run the server.\n",
    "https://docs.mem0.ai/open-source/features/rest-api"
   ]
  },
  {
   "cell_type": "markdown",
   "metadata": {},
   "source": [
    "Hiện tại, không có thông tin cụ thể về việc tự host Mem0, vì Mem0 là một dịch vụ lưu trữ và quản lý dữ liệu được cung cấp bởi một bên thứ ba. Tuy nhiên, nếu bạn quan tâm đến việc tự host các dịch vụ tương tự để quản lý và lưu trữ dữ liệu cá nhân, bạn có thể tham khảo các giải pháp self-hosted khác.\n",
    "\n",
    "**Tự host dịch vụ tại nhà:**\n",
    "\n",
    "Việc tự host dịch vụ tại nhà giúp bạn kiểm soát hoàn toàn dữ liệu và cấu hình hệ thống theo nhu cầu cá nhân. Dưới đây là các bước cơ bản để bắt đầu:\n",
    "\n",
    "1. **Chuẩn bị phần cứng:**\n",
    "   - Sử dụng một máy tính có cấu hình phù hợp, chẳng hạn như CPU Intel Core i5 hoặc tương đương, RAM tối thiểu 8GB và ổ cứng từ 1TB trở lên.\n",
    "   - Đảm bảo máy tính có kết nối mạng ổn định và nguồn điện liên tục.\n",
    "\n",
    "2. **Lựa chọn hệ điều hành:**\n",
    "   - Các hệ điều hành mã nguồn mở như Ubuntu Server, Debian hoặc CentOS thường được sử dụng cho máy chủ tự host.\n",
    "\n",
    "3. **Cài đặt phần mềm quản lý dịch vụ:**\n",
    "   - Sử dụng Docker để triển khai và quản lý các ứng dụng một cách linh hoạt và dễ dàng.\n",
    "   - Cài đặt các ứng dụng cần thiết như Nextcloud (lưu trữ và chia sẻ tệp tin), WordPress hoặc Ghost (blog), hoặc các dịch vụ khác tùy theo nhu cầu.\n",
    "\n",
    "4. **Thiết lập bảo mật:**\n",
    "   - Cấu hình tường lửa (Firewall) để bảo vệ hệ thống khỏi các cuộc tấn công từ bên ngoài.\n",
    "   - Sử dụng các công cụ chống virus và sao lưu dữ liệu định kỳ để đảm bảo an toàn cho thông tin của bạn.\n",
    "\n",
    "**Lưu ý:**\n",
    "\n",
    "- Việc tự host yêu cầu kiến thức kỹ thuật và quản trị hệ thống. Nếu bạn không tự tin, có thể xem xét sử dụng các dịch vụ lưu trữ được quản lý bởi các nhà cung cấp uy tín.\n",
    "\n",
    "Để biết thêm chi tiết, bạn có thể tham khảo bài viết về cách cài đặt máy chủ tại nhà: citeturn0search0 "
   ]
  },
  {
   "cell_type": "markdown",
   "metadata": {},
   "source": [
    "```\n",
    "# First build the image\n",
    "docker build -t mem0-server .\n",
    "\n",
    "sudo docker ps | grep 25039\n",
    "\n",
    "# Then run it with the new port\n",
    "docker run -p 25045:25045 --env-file .env mem0-server\n",
    "\n",
    "docker run -d -p 25045:25045 --env-file .env mem0-server\n",
    "```"
   ]
  }
 ],
 "metadata": {
  "language_info": {
   "name": "python"
  }
 },
 "nbformat": 4,
 "nbformat_minor": 2
}
